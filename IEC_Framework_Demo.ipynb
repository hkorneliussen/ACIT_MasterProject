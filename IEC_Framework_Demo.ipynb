{
  "nbformat": 4,
  "nbformat_minor": 0,
  "metadata": {
    "colab": {
      "provenance": [],
      "authorship_tag": "ABX9TyNF93l/mW5xHUNrVdX6TJlJ",
      "include_colab_link": true
    },
    "kernelspec": {
      "name": "python3",
      "display_name": "Python 3"
    },
    "language_info": {
      "name": "python"
    }
  },
  "cells": [
    {
      "cell_type": "markdown",
      "metadata": {
        "id": "view-in-github",
        "colab_type": "text"
      },
      "source": [
        "<a href=\"https://colab.research.google.com/github/hkorneliussen/ACIT_MasterProject/blob/main/IEC_Framework_Demo.ipynb\" target=\"_parent\"><img src=\"https://colab.research.google.com/assets/colab-badge.svg\" alt=\"Open In Colab\"/></a>"
      ]
    },
    {
      "cell_type": "code",
      "execution_count": null,
      "metadata": {
        "id": "3Gh9P9b-VJk9"
      },
      "outputs": [],
      "source": []
    },
    {
      "cell_type": "markdown",
      "source": [
        "missing models: \n",
        "- "
      ],
      "metadata": {
        "id": "hBjoAEbMVPa3"
      }
    },
    {
      "cell_type": "code",
      "source": [],
      "metadata": {
        "id": "6IZNDajzeTWU"
      },
      "execution_count": null,
      "outputs": []
    }
  ]
}